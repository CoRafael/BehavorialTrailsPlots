{
 "cells": [
  {
   "cell_type": "code",
   "execution_count": 2,
   "metadata": {
    "collapsed": true
   },
   "outputs": [],
   "source": [
    "from IPython.display import Image, display"
   ]
  },
  {
   "cell_type": "code",
   "execution_count": 3,
   "metadata": {},
   "outputs": [
    {
     "data": {
      "application/javascript": [
       "IPython.OutputArea.prototype._should_scroll = function(lines) {\n",
       "    return false;\n",
       "}"
      ],
      "text/plain": [
       "<IPython.core.display.Javascript object>"
      ]
     },
     "metadata": {},
     "output_type": "display_data"
    }
   ],
   "source": [
    "%%javascript\n",
    "IPython.OutputArea.prototype._should_scroll = function(lines) {\n",
    "    return false;\n",
    "}"
   ]
  },
  {
   "cell_type": "code",
   "execution_count": 16,
   "metadata": {},
   "outputs": [],
   "source": [
    "from os import walk\n",
    "\n",
    "f = []\n",
    "for (dirpath, dirnames, filenames) in walk(\"Topic/\"):\n",
    "    f.extend(filenames)\n",
    "    break\n",
    "    \n",
    "for filename in f:\n",
    "    path = \"Topic/\" + filename\n",
    "    i = Image(filename=path)\n",
    "    #display(i)"
   ]
  },
  {
   "cell_type": "code",
   "execution_count": 4,
   "metadata": {},
   "outputs": [
    {
     "data": {
      "text/html": [],
      "text/plain": [
       "<IPython.core.display.HTML object>"
      ]
     },
     "metadata": {},
     "output_type": "display_data"
    }
   ],
   "source": [
    "from IPython.display import Image, HTML, display\n",
    "from glob import glob\n",
    "imagesList=''.join( [\"<img style='width: 120px; margin: 0px; float: left; border: 1px solid black;' src='%s' />\" % str(s) \n",
    "                     for s in sorted(glob('Plots/Topic/*.png')) ])\n",
    "display(HTML(imagesList))"
   ]
  },
  {
   "cell_type": "code",
   "execution_count": 23,
   "metadata": {},
   "outputs": [
    {
     "name": "stdout",
     "output_type": "stream",
     "text": [
      "['ms_cheevi0us(V)_jackenit_6in(P).png', 'susiethatsme14(V)_sugardavis(P).png', '13 yo girl(V)_marc_00_48089(P).png', 'doindadew1992(V)_italianlover37(P).png', 'kerikeepinit_13(V)_i_8u_raw(P).png', 'greendaychickk(V)_m4pixeleen(P).png', 'Decoy name(V)_thedude420xxx(P).png', 'sugahboogah93(V)_shinelfmc2005(P).png', 'cindifromsc(V)_flxnonya(P).png', 'rachel_west90(V)_manofdarkneedsl951(P).png', 'cowgirl_cara_1991(V)_sunrise_sunset66(P).png', 'beckys_baby90(V)_stylelisticgrooves(P).png', 'rachelgurl0315(V)_dble_d1(P).png', 'riverridzz13(V)_socal128(P).png', 'bethinindep(V)_spongebob_giantdick(P).png', 'jessieappletonsux(V)_mjn_523(P).png', 'chels_m1993(V)_jkspeedster0112(P).png', 'kelliecheers(V)_ndbaseballstudd(P).png', 'decoy name(V)_sebastian_calif(P).png', 'emmys_a_peach121(V)_mikespikegetiingcrazytocu(P).png', 'xjonalynx(V)_needinit1983(P).png', 'hum_cali_girl(V)_icepirate53(P).png', 'greatescapeohio(V)_user194547(P).png', 'jerri_lee_ann(V)_aticloose(P).png', 'attitude_ithink_not(V)_nickpaul19802000(P).png', '13 year old girl(V)_wulfker_dragonslayer(P).png', '14 year old girl(V)_ghost27_73(P).png', '14-year-old boy(V)_fotophix(P).png', 'tracy_in_xcess(V)_tunnels12000(P).png', 'tttia_pet13(V)_jon_raven2000(P).png', 'lohan_sux(V)_lee_greer74(P).png', 'heather_sk8s(V)_corazon23456partio23456(P).png', 'chickygrrrrl(V)_netbuckeye(P).png', 'bananasplitbrit(V)_rayray121980(P).png', 'raeganoreilly(V)_schutzea(P).png', '13 year old girl(V)_fredold_2000(P).png', 'cindylovez2dance(V)_crazytrini85(P).png', 'sarah_parker_rox(V)_the_third_storm(P).png', 'jetpacksidekick(V)_sjklanke(P).png', 'sarah_linkley1992(V)_fightingfalconsguy(P).png', 'subat0micwedgy_queen(V)_i_smoke_alotta_weed(P).png', 'sadlilgrrl(V)_arthinice(P).png', 'peekaboo1293(V)_armysgt1961(P).png', '15-yr-old-girl(V)_hiexcitement(P).png', 'nahtasha(V)_holdyoucloser2003(P).png', 'guurly_guurl_1993(V)_cuteguyinoc2002(P).png', 'torn_angel_2005(V)_asian_kreationz(P).png', 'baby_cakes_1990(V)_jleno9(P).png', '14 year old girl(V)_steelmanoo(P).png', 'david 91752(V)_pavlov1234(P).png', 'kawaii_kitten_93(V)_sweet_jason002(P).png', 'lori_luvs_puppies(V)_texassailor04(P).png', 'diamondinthe.rough(V)_sphinx_56_02(P).png', 'rubyslippers013(V)_red387peter(P).png', 'jess_n_cali(V)_pitbulldavid2001(P).png', '14 yr old girl(V)_vipper_131(P).png']\n"
     ]
    },
    {
     "data": {
      "text/html": [
       "<img style='width: 300px; margin: 0px; float: left; border: 1px solid black;' src='Topic/ms_cheevi0us(V)_jackenit_6in(P).png' /><img style='width: 300px; margin: 0px; float: left; border: 1px solid black;' src='SentimentAverage/ms_cheevi0us(V)_jackenit_6in(P).png' /><img style='width: 300px; margin: 0px; float: left; border: 1px solid black;' src='SentimentAverage/ms_cheevi0us(V)_jackenit_6in(P).png' />"
      ],
      "text/plain": [
       "<IPython.core.display.HTML object>"
      ]
     },
     "metadata": {},
     "output_type": "display_data"
    },
    {
     "data": {
      "text/html": [
       "<img style='width: 300px; margin: 0px; float: left; border: 1px solid black;' src='Topic/susiethatsme14(V)_sugardavis(P).png' /><img style='width: 300px; margin: 0px; float: left; border: 1px solid black;' src='SentimentAverage/susiethatsme14(V)_sugardavis(P).png' /><img style='width: 300px; margin: 0px; float: left; border: 1px solid black;' src='SentimentAverage/susiethatsme14(V)_sugardavis(P).png' />"
      ],
      "text/plain": [
       "<IPython.core.display.HTML object>"
      ]
     },
     "metadata": {},
     "output_type": "display_data"
    },
    {
     "data": {
      "text/html": [
       "<img style='width: 300px; margin: 0px; float: left; border: 1px solid black;' src='Topic/13 yo girl(V)_marc_00_48089(P).png' /><img style='width: 300px; margin: 0px; float: left; border: 1px solid black;' src='SentimentAverage/13 yo girl(V)_marc_00_48089(P).png' /><img style='width: 300px; margin: 0px; float: left; border: 1px solid black;' src='SentimentAverage/13 yo girl(V)_marc_00_48089(P).png' />"
      ],
      "text/plain": [
       "<IPython.core.display.HTML object>"
      ]
     },
     "metadata": {},
     "output_type": "display_data"
    },
    {
     "data": {
      "text/html": [
       "<img style='width: 300px; margin: 0px; float: left; border: 1px solid black;' src='Topic/doindadew1992(V)_italianlover37(P).png' /><img style='width: 300px; margin: 0px; float: left; border: 1px solid black;' src='SentimentAverage/doindadew1992(V)_italianlover37(P).png' /><img style='width: 300px; margin: 0px; float: left; border: 1px solid black;' src='SentimentAverage/doindadew1992(V)_italianlover37(P).png' />"
      ],
      "text/plain": [
       "<IPython.core.display.HTML object>"
      ]
     },
     "metadata": {},
     "output_type": "display_data"
    },
    {
     "data": {
      "text/html": [
       "<img style='width: 300px; margin: 0px; float: left; border: 1px solid black;' src='Topic/kerikeepinit_13(V)_i_8u_raw(P).png' /><img style='width: 300px; margin: 0px; float: left; border: 1px solid black;' src='SentimentAverage/kerikeepinit_13(V)_i_8u_raw(P).png' /><img style='width: 300px; margin: 0px; float: left; border: 1px solid black;' src='SentimentAverage/kerikeepinit_13(V)_i_8u_raw(P).png' />"
      ],
      "text/plain": [
       "<IPython.core.display.HTML object>"
      ]
     },
     "metadata": {},
     "output_type": "display_data"
    },
    {
     "data": {
      "text/html": [
       "<img style='width: 300px; margin: 0px; float: left; border: 1px solid black;' src='Topic/greendaychickk(V)_m4pixeleen(P).png' /><img style='width: 300px; margin: 0px; float: left; border: 1px solid black;' src='SentimentAverage/greendaychickk(V)_m4pixeleen(P).png' /><img style='width: 300px; margin: 0px; float: left; border: 1px solid black;' src='SentimentAverage/greendaychickk(V)_m4pixeleen(P).png' />"
      ],
      "text/plain": [
       "<IPython.core.display.HTML object>"
      ]
     },
     "metadata": {},
     "output_type": "display_data"
    },
    {
     "data": {
      "text/html": [
       "<img style='width: 300px; margin: 0px; float: left; border: 1px solid black;' src='Topic/Decoy name(V)_thedude420xxx(P).png' /><img style='width: 300px; margin: 0px; float: left; border: 1px solid black;' src='SentimentAverage/Decoy name(V)_thedude420xxx(P).png' /><img style='width: 300px; margin: 0px; float: left; border: 1px solid black;' src='SentimentAverage/Decoy name(V)_thedude420xxx(P).png' />"
      ],
      "text/plain": [
       "<IPython.core.display.HTML object>"
      ]
     },
     "metadata": {},
     "output_type": "display_data"
    },
    {
     "data": {
      "text/html": [
       "<img style='width: 300px; margin: 0px; float: left; border: 1px solid black;' src='Topic/sugahboogah93(V)_shinelfmc2005(P).png' /><img style='width: 300px; margin: 0px; float: left; border: 1px solid black;' src='SentimentAverage/sugahboogah93(V)_shinelfmc2005(P).png' /><img style='width: 300px; margin: 0px; float: left; border: 1px solid black;' src='SentimentAverage/sugahboogah93(V)_shinelfmc2005(P).png' />"
      ],
      "text/plain": [
       "<IPython.core.display.HTML object>"
      ]
     },
     "metadata": {},
     "output_type": "display_data"
    },
    {
     "data": {
      "text/html": [
       "<img style='width: 300px; margin: 0px; float: left; border: 1px solid black;' src='Topic/cindifromsc(V)_flxnonya(P).png' /><img style='width: 300px; margin: 0px; float: left; border: 1px solid black;' src='SentimentAverage/cindifromsc(V)_flxnonya(P).png' /><img style='width: 300px; margin: 0px; float: left; border: 1px solid black;' src='SentimentAverage/cindifromsc(V)_flxnonya(P).png' />"
      ],
      "text/plain": [
       "<IPython.core.display.HTML object>"
      ]
     },
     "metadata": {},
     "output_type": "display_data"
    },
    {
     "data": {
      "text/html": [
       "<img style='width: 300px; margin: 0px; float: left; border: 1px solid black;' src='Topic/rachel_west90(V)_manofdarkneedsl951(P).png' /><img style='width: 300px; margin: 0px; float: left; border: 1px solid black;' src='SentimentAverage/rachel_west90(V)_manofdarkneedsl951(P).png' /><img style='width: 300px; margin: 0px; float: left; border: 1px solid black;' src='SentimentAverage/rachel_west90(V)_manofdarkneedsl951(P).png' />"
      ],
      "text/plain": [
       "<IPython.core.display.HTML object>"
      ]
     },
     "metadata": {},
     "output_type": "display_data"
    },
    {
     "data": {
      "text/html": [
       "<img style='width: 300px; margin: 0px; float: left; border: 1px solid black;' src='Topic/cowgirl_cara_1991(V)_sunrise_sunset66(P).png' /><img style='width: 300px; margin: 0px; float: left; border: 1px solid black;' src='SentimentAverage/cowgirl_cara_1991(V)_sunrise_sunset66(P).png' /><img style='width: 300px; margin: 0px; float: left; border: 1px solid black;' src='SentimentAverage/cowgirl_cara_1991(V)_sunrise_sunset66(P).png' />"
      ],
      "text/plain": [
       "<IPython.core.display.HTML object>"
      ]
     },
     "metadata": {},
     "output_type": "display_data"
    },
    {
     "data": {
      "text/html": [
       "<img style='width: 300px; margin: 0px; float: left; border: 1px solid black;' src='Topic/beckys_baby90(V)_stylelisticgrooves(P).png' /><img style='width: 300px; margin: 0px; float: left; border: 1px solid black;' src='SentimentAverage/beckys_baby90(V)_stylelisticgrooves(P).png' /><img style='width: 300px; margin: 0px; float: left; border: 1px solid black;' src='SentimentAverage/beckys_baby90(V)_stylelisticgrooves(P).png' />"
      ],
      "text/plain": [
       "<IPython.core.display.HTML object>"
      ]
     },
     "metadata": {},
     "output_type": "display_data"
    },
    {
     "data": {
      "text/html": [
       "<img style='width: 300px; margin: 0px; float: left; border: 1px solid black;' src='Topic/rachelgurl0315(V)_dble_d1(P).png' /><img style='width: 300px; margin: 0px; float: left; border: 1px solid black;' src='SentimentAverage/rachelgurl0315(V)_dble_d1(P).png' /><img style='width: 300px; margin: 0px; float: left; border: 1px solid black;' src='SentimentAverage/rachelgurl0315(V)_dble_d1(P).png' />"
      ],
      "text/plain": [
       "<IPython.core.display.HTML object>"
      ]
     },
     "metadata": {},
     "output_type": "display_data"
    },
    {
     "data": {
      "text/html": [
       "<img style='width: 300px; margin: 0px; float: left; border: 1px solid black;' src='Topic/riverridzz13(V)_socal128(P).png' /><img style='width: 300px; margin: 0px; float: left; border: 1px solid black;' src='SentimentAverage/riverridzz13(V)_socal128(P).png' /><img style='width: 300px; margin: 0px; float: left; border: 1px solid black;' src='SentimentAverage/riverridzz13(V)_socal128(P).png' />"
      ],
      "text/plain": [
       "<IPython.core.display.HTML object>"
      ]
     },
     "metadata": {},
     "output_type": "display_data"
    },
    {
     "data": {
      "text/html": [
       "<img style='width: 300px; margin: 0px; float: left; border: 1px solid black;' src='Topic/bethinindep(V)_spongebob_giantdick(P).png' /><img style='width: 300px; margin: 0px; float: left; border: 1px solid black;' src='SentimentAverage/bethinindep(V)_spongebob_giantdick(P).png' /><img style='width: 300px; margin: 0px; float: left; border: 1px solid black;' src='SentimentAverage/bethinindep(V)_spongebob_giantdick(P).png' />"
      ],
      "text/plain": [
       "<IPython.core.display.HTML object>"
      ]
     },
     "metadata": {},
     "output_type": "display_data"
    },
    {
     "data": {
      "text/html": [
       "<img style='width: 300px; margin: 0px; float: left; border: 1px solid black;' src='Topic/jessieappletonsux(V)_mjn_523(P).png' /><img style='width: 300px; margin: 0px; float: left; border: 1px solid black;' src='SentimentAverage/jessieappletonsux(V)_mjn_523(P).png' /><img style='width: 300px; margin: 0px; float: left; border: 1px solid black;' src='SentimentAverage/jessieappletonsux(V)_mjn_523(P).png' />"
      ],
      "text/plain": [
       "<IPython.core.display.HTML object>"
      ]
     },
     "metadata": {},
     "output_type": "display_data"
    },
    {
     "data": {
      "text/html": [
       "<img style='width: 300px; margin: 0px; float: left; border: 1px solid black;' src='Topic/chels_m1993(V)_jkspeedster0112(P).png' /><img style='width: 300px; margin: 0px; float: left; border: 1px solid black;' src='SentimentAverage/chels_m1993(V)_jkspeedster0112(P).png' /><img style='width: 300px; margin: 0px; float: left; border: 1px solid black;' src='SentimentAverage/chels_m1993(V)_jkspeedster0112(P).png' />"
      ],
      "text/plain": [
       "<IPython.core.display.HTML object>"
      ]
     },
     "metadata": {},
     "output_type": "display_data"
    },
    {
     "data": {
      "text/html": [
       "<img style='width: 300px; margin: 0px; float: left; border: 1px solid black;' src='Topic/kelliecheers(V)_ndbaseballstudd(P).png' /><img style='width: 300px; margin: 0px; float: left; border: 1px solid black;' src='SentimentAverage/kelliecheers(V)_ndbaseballstudd(P).png' /><img style='width: 300px; margin: 0px; float: left; border: 1px solid black;' src='SentimentAverage/kelliecheers(V)_ndbaseballstudd(P).png' />"
      ],
      "text/plain": [
       "<IPython.core.display.HTML object>"
      ]
     },
     "metadata": {},
     "output_type": "display_data"
    },
    {
     "data": {
      "text/html": [
       "<img style='width: 300px; margin: 0px; float: left; border: 1px solid black;' src='Topic/decoy name(V)_sebastian_calif(P).png' /><img style='width: 300px; margin: 0px; float: left; border: 1px solid black;' src='SentimentAverage/decoy name(V)_sebastian_calif(P).png' /><img style='width: 300px; margin: 0px; float: left; border: 1px solid black;' src='SentimentAverage/decoy name(V)_sebastian_calif(P).png' />"
      ],
      "text/plain": [
       "<IPython.core.display.HTML object>"
      ]
     },
     "metadata": {},
     "output_type": "display_data"
    },
    {
     "data": {
      "text/html": [
       "<img style='width: 300px; margin: 0px; float: left; border: 1px solid black;' src='Topic/emmys_a_peach121(V)_mikespikegetiingcrazytocu(P).png' /><img style='width: 300px; margin: 0px; float: left; border: 1px solid black;' src='SentimentAverage/emmys_a_peach121(V)_mikespikegetiingcrazytocu(P).png' /><img style='width: 300px; margin: 0px; float: left; border: 1px solid black;' src='SentimentAverage/emmys_a_peach121(V)_mikespikegetiingcrazytocu(P).png' />"
      ],
      "text/plain": [
       "<IPython.core.display.HTML object>"
      ]
     },
     "metadata": {},
     "output_type": "display_data"
    },
    {
     "data": {
      "text/html": [
       "<img style='width: 300px; margin: 0px; float: left; border: 1px solid black;' src='Topic/xjonalynx(V)_needinit1983(P).png' /><img style='width: 300px; margin: 0px; float: left; border: 1px solid black;' src='SentimentAverage/xjonalynx(V)_needinit1983(P).png' /><img style='width: 300px; margin: 0px; float: left; border: 1px solid black;' src='SentimentAverage/xjonalynx(V)_needinit1983(P).png' />"
      ],
      "text/plain": [
       "<IPython.core.display.HTML object>"
      ]
     },
     "metadata": {},
     "output_type": "display_data"
    },
    {
     "data": {
      "text/html": [
       "<img style='width: 300px; margin: 0px; float: left; border: 1px solid black;' src='Topic/hum_cali_girl(V)_icepirate53(P).png' /><img style='width: 300px; margin: 0px; float: left; border: 1px solid black;' src='SentimentAverage/hum_cali_girl(V)_icepirate53(P).png' /><img style='width: 300px; margin: 0px; float: left; border: 1px solid black;' src='SentimentAverage/hum_cali_girl(V)_icepirate53(P).png' />"
      ],
      "text/plain": [
       "<IPython.core.display.HTML object>"
      ]
     },
     "metadata": {},
     "output_type": "display_data"
    },
    {
     "data": {
      "text/html": [
       "<img style='width: 300px; margin: 0px; float: left; border: 1px solid black;' src='Topic/greatescapeohio(V)_user194547(P).png' /><img style='width: 300px; margin: 0px; float: left; border: 1px solid black;' src='SentimentAverage/greatescapeohio(V)_user194547(P).png' /><img style='width: 300px; margin: 0px; float: left; border: 1px solid black;' src='SentimentAverage/greatescapeohio(V)_user194547(P).png' />"
      ],
      "text/plain": [
       "<IPython.core.display.HTML object>"
      ]
     },
     "metadata": {},
     "output_type": "display_data"
    },
    {
     "data": {
      "text/html": [
       "<img style='width: 300px; margin: 0px; float: left; border: 1px solid black;' src='Topic/jerri_lee_ann(V)_aticloose(P).png' /><img style='width: 300px; margin: 0px; float: left; border: 1px solid black;' src='SentimentAverage/jerri_lee_ann(V)_aticloose(P).png' /><img style='width: 300px; margin: 0px; float: left; border: 1px solid black;' src='SentimentAverage/jerri_lee_ann(V)_aticloose(P).png' />"
      ],
      "text/plain": [
       "<IPython.core.display.HTML object>"
      ]
     },
     "metadata": {},
     "output_type": "display_data"
    },
    {
     "data": {
      "text/html": [
       "<img style='width: 300px; margin: 0px; float: left; border: 1px solid black;' src='Topic/attitude_ithink_not(V)_nickpaul19802000(P).png' /><img style='width: 300px; margin: 0px; float: left; border: 1px solid black;' src='SentimentAverage/attitude_ithink_not(V)_nickpaul19802000(P).png' /><img style='width: 300px; margin: 0px; float: left; border: 1px solid black;' src='SentimentAverage/attitude_ithink_not(V)_nickpaul19802000(P).png' />"
      ],
      "text/plain": [
       "<IPython.core.display.HTML object>"
      ]
     },
     "metadata": {},
     "output_type": "display_data"
    },
    {
     "data": {
      "text/html": [
       "<img style='width: 300px; margin: 0px; float: left; border: 1px solid black;' src='Topic/13 year old girl(V)_wulfker_dragonslayer(P).png' /><img style='width: 300px; margin: 0px; float: left; border: 1px solid black;' src='SentimentAverage/13 year old girl(V)_wulfker_dragonslayer(P).png' /><img style='width: 300px; margin: 0px; float: left; border: 1px solid black;' src='SentimentAverage/13 year old girl(V)_wulfker_dragonslayer(P).png' />"
      ],
      "text/plain": [
       "<IPython.core.display.HTML object>"
      ]
     },
     "metadata": {},
     "output_type": "display_data"
    },
    {
     "data": {
      "text/html": [
       "<img style='width: 300px; margin: 0px; float: left; border: 1px solid black;' src='Topic/14 year old girl(V)_ghost27_73(P).png' /><img style='width: 300px; margin: 0px; float: left; border: 1px solid black;' src='SentimentAverage/14 year old girl(V)_ghost27_73(P).png' /><img style='width: 300px; margin: 0px; float: left; border: 1px solid black;' src='SentimentAverage/14 year old girl(V)_ghost27_73(P).png' />"
      ],
      "text/plain": [
       "<IPython.core.display.HTML object>"
      ]
     },
     "metadata": {},
     "output_type": "display_data"
    },
    {
     "data": {
      "text/html": [
       "<img style='width: 300px; margin: 0px; float: left; border: 1px solid black;' src='Topic/14-year-old boy(V)_fotophix(P).png' /><img style='width: 300px; margin: 0px; float: left; border: 1px solid black;' src='SentimentAverage/14-year-old boy(V)_fotophix(P).png' /><img style='width: 300px; margin: 0px; float: left; border: 1px solid black;' src='SentimentAverage/14-year-old boy(V)_fotophix(P).png' />"
      ],
      "text/plain": [
       "<IPython.core.display.HTML object>"
      ]
     },
     "metadata": {},
     "output_type": "display_data"
    },
    {
     "data": {
      "text/html": [
       "<img style='width: 300px; margin: 0px; float: left; border: 1px solid black;' src='Topic/tracy_in_xcess(V)_tunnels12000(P).png' /><img style='width: 300px; margin: 0px; float: left; border: 1px solid black;' src='SentimentAverage/tracy_in_xcess(V)_tunnels12000(P).png' /><img style='width: 300px; margin: 0px; float: left; border: 1px solid black;' src='SentimentAverage/tracy_in_xcess(V)_tunnels12000(P).png' />"
      ],
      "text/plain": [
       "<IPython.core.display.HTML object>"
      ]
     },
     "metadata": {},
     "output_type": "display_data"
    },
    {
     "data": {
      "text/html": [
       "<img style='width: 300px; margin: 0px; float: left; border: 1px solid black;' src='Topic/tttia_pet13(V)_jon_raven2000(P).png' /><img style='width: 300px; margin: 0px; float: left; border: 1px solid black;' src='SentimentAverage/tttia_pet13(V)_jon_raven2000(P).png' /><img style='width: 300px; margin: 0px; float: left; border: 1px solid black;' src='SentimentAverage/tttia_pet13(V)_jon_raven2000(P).png' />"
      ],
      "text/plain": [
       "<IPython.core.display.HTML object>"
      ]
     },
     "metadata": {},
     "output_type": "display_data"
    },
    {
     "data": {
      "text/html": [
       "<img style='width: 300px; margin: 0px; float: left; border: 1px solid black;' src='Topic/lohan_sux(V)_lee_greer74(P).png' /><img style='width: 300px; margin: 0px; float: left; border: 1px solid black;' src='SentimentAverage/lohan_sux(V)_lee_greer74(P).png' /><img style='width: 300px; margin: 0px; float: left; border: 1px solid black;' src='SentimentAverage/lohan_sux(V)_lee_greer74(P).png' />"
      ],
      "text/plain": [
       "<IPython.core.display.HTML object>"
      ]
     },
     "metadata": {},
     "output_type": "display_data"
    },
    {
     "data": {
      "text/html": [
       "<img style='width: 300px; margin: 0px; float: left; border: 1px solid black;' src='Topic/heather_sk8s(V)_corazon23456partio23456(P).png' /><img style='width: 300px; margin: 0px; float: left; border: 1px solid black;' src='SentimentAverage/heather_sk8s(V)_corazon23456partio23456(P).png' /><img style='width: 300px; margin: 0px; float: left; border: 1px solid black;' src='SentimentAverage/heather_sk8s(V)_corazon23456partio23456(P).png' />"
      ],
      "text/plain": [
       "<IPython.core.display.HTML object>"
      ]
     },
     "metadata": {},
     "output_type": "display_data"
    },
    {
     "data": {
      "text/html": [
       "<img style='width: 300px; margin: 0px; float: left; border: 1px solid black;' src='Topic/chickygrrrrl(V)_netbuckeye(P).png' /><img style='width: 300px; margin: 0px; float: left; border: 1px solid black;' src='SentimentAverage/chickygrrrrl(V)_netbuckeye(P).png' /><img style='width: 300px; margin: 0px; float: left; border: 1px solid black;' src='SentimentAverage/chickygrrrrl(V)_netbuckeye(P).png' />"
      ],
      "text/plain": [
       "<IPython.core.display.HTML object>"
      ]
     },
     "metadata": {},
     "output_type": "display_data"
    },
    {
     "data": {
      "text/html": [
       "<img style='width: 300px; margin: 0px; float: left; border: 1px solid black;' src='Topic/bananasplitbrit(V)_rayray121980(P).png' /><img style='width: 300px; margin: 0px; float: left; border: 1px solid black;' src='SentimentAverage/bananasplitbrit(V)_rayray121980(P).png' /><img style='width: 300px; margin: 0px; float: left; border: 1px solid black;' src='SentimentAverage/bananasplitbrit(V)_rayray121980(P).png' />"
      ],
      "text/plain": [
       "<IPython.core.display.HTML object>"
      ]
     },
     "metadata": {},
     "output_type": "display_data"
    },
    {
     "data": {
      "text/html": [
       "<img style='width: 300px; margin: 0px; float: left; border: 1px solid black;' src='Topic/raeganoreilly(V)_schutzea(P).png' /><img style='width: 300px; margin: 0px; float: left; border: 1px solid black;' src='SentimentAverage/raeganoreilly(V)_schutzea(P).png' /><img style='width: 300px; margin: 0px; float: left; border: 1px solid black;' src='SentimentAverage/raeganoreilly(V)_schutzea(P).png' />"
      ],
      "text/plain": [
       "<IPython.core.display.HTML object>"
      ]
     },
     "metadata": {},
     "output_type": "display_data"
    },
    {
     "data": {
      "text/html": [
       "<img style='width: 300px; margin: 0px; float: left; border: 1px solid black;' src='Topic/13 year old girl(V)_fredold_2000(P).png' /><img style='width: 300px; margin: 0px; float: left; border: 1px solid black;' src='SentimentAverage/13 year old girl(V)_fredold_2000(P).png' /><img style='width: 300px; margin: 0px; float: left; border: 1px solid black;' src='SentimentAverage/13 year old girl(V)_fredold_2000(P).png' />"
      ],
      "text/plain": [
       "<IPython.core.display.HTML object>"
      ]
     },
     "metadata": {},
     "output_type": "display_data"
    },
    {
     "data": {
      "text/html": [
       "<img style='width: 300px; margin: 0px; float: left; border: 1px solid black;' src='Topic/cindylovez2dance(V)_crazytrini85(P).png' /><img style='width: 300px; margin: 0px; float: left; border: 1px solid black;' src='SentimentAverage/cindylovez2dance(V)_crazytrini85(P).png' /><img style='width: 300px; margin: 0px; float: left; border: 1px solid black;' src='SentimentAverage/cindylovez2dance(V)_crazytrini85(P).png' />"
      ],
      "text/plain": [
       "<IPython.core.display.HTML object>"
      ]
     },
     "metadata": {},
     "output_type": "display_data"
    },
    {
     "data": {
      "text/html": [
       "<img style='width: 300px; margin: 0px; float: left; border: 1px solid black;' src='Topic/sarah_parker_rox(V)_the_third_storm(P).png' /><img style='width: 300px; margin: 0px; float: left; border: 1px solid black;' src='SentimentAverage/sarah_parker_rox(V)_the_third_storm(P).png' /><img style='width: 300px; margin: 0px; float: left; border: 1px solid black;' src='SentimentAverage/sarah_parker_rox(V)_the_third_storm(P).png' />"
      ],
      "text/plain": [
       "<IPython.core.display.HTML object>"
      ]
     },
     "metadata": {},
     "output_type": "display_data"
    },
    {
     "data": {
      "text/html": [
       "<img style='width: 300px; margin: 0px; float: left; border: 1px solid black;' src='Topic/jetpacksidekick(V)_sjklanke(P).png' /><img style='width: 300px; margin: 0px; float: left; border: 1px solid black;' src='SentimentAverage/jetpacksidekick(V)_sjklanke(P).png' /><img style='width: 300px; margin: 0px; float: left; border: 1px solid black;' src='SentimentAverage/jetpacksidekick(V)_sjklanke(P).png' />"
      ],
      "text/plain": [
       "<IPython.core.display.HTML object>"
      ]
     },
     "metadata": {},
     "output_type": "display_data"
    },
    {
     "data": {
      "text/html": [
       "<img style='width: 300px; margin: 0px; float: left; border: 1px solid black;' src='Topic/sarah_linkley1992(V)_fightingfalconsguy(P).png' /><img style='width: 300px; margin: 0px; float: left; border: 1px solid black;' src='SentimentAverage/sarah_linkley1992(V)_fightingfalconsguy(P).png' /><img style='width: 300px; margin: 0px; float: left; border: 1px solid black;' src='SentimentAverage/sarah_linkley1992(V)_fightingfalconsguy(P).png' />"
      ],
      "text/plain": [
       "<IPython.core.display.HTML object>"
      ]
     },
     "metadata": {},
     "output_type": "display_data"
    },
    {
     "data": {
      "text/html": [
       "<img style='width: 300px; margin: 0px; float: left; border: 1px solid black;' src='Topic/subat0micwedgy_queen(V)_i_smoke_alotta_weed(P).png' /><img style='width: 300px; margin: 0px; float: left; border: 1px solid black;' src='SentimentAverage/subat0micwedgy_queen(V)_i_smoke_alotta_weed(P).png' /><img style='width: 300px; margin: 0px; float: left; border: 1px solid black;' src='SentimentAverage/subat0micwedgy_queen(V)_i_smoke_alotta_weed(P).png' />"
      ],
      "text/plain": [
       "<IPython.core.display.HTML object>"
      ]
     },
     "metadata": {},
     "output_type": "display_data"
    },
    {
     "data": {
      "text/html": [
       "<img style='width: 300px; margin: 0px; float: left; border: 1px solid black;' src='Topic/sadlilgrrl(V)_arthinice(P).png' /><img style='width: 300px; margin: 0px; float: left; border: 1px solid black;' src='SentimentAverage/sadlilgrrl(V)_arthinice(P).png' /><img style='width: 300px; margin: 0px; float: left; border: 1px solid black;' src='SentimentAverage/sadlilgrrl(V)_arthinice(P).png' />"
      ],
      "text/plain": [
       "<IPython.core.display.HTML object>"
      ]
     },
     "metadata": {},
     "output_type": "display_data"
    },
    {
     "data": {
      "text/html": [
       "<img style='width: 300px; margin: 0px; float: left; border: 1px solid black;' src='Topic/peekaboo1293(V)_armysgt1961(P).png' /><img style='width: 300px; margin: 0px; float: left; border: 1px solid black;' src='SentimentAverage/peekaboo1293(V)_armysgt1961(P).png' /><img style='width: 300px; margin: 0px; float: left; border: 1px solid black;' src='SentimentAverage/peekaboo1293(V)_armysgt1961(P).png' />"
      ],
      "text/plain": [
       "<IPython.core.display.HTML object>"
      ]
     },
     "metadata": {},
     "output_type": "display_data"
    },
    {
     "data": {
      "text/html": [
       "<img style='width: 300px; margin: 0px; float: left; border: 1px solid black;' src='Topic/15-yr-old-girl(V)_hiexcitement(P).png' /><img style='width: 300px; margin: 0px; float: left; border: 1px solid black;' src='SentimentAverage/15-yr-old-girl(V)_hiexcitement(P).png' /><img style='width: 300px; margin: 0px; float: left; border: 1px solid black;' src='SentimentAverage/15-yr-old-girl(V)_hiexcitement(P).png' />"
      ],
      "text/plain": [
       "<IPython.core.display.HTML object>"
      ]
     },
     "metadata": {},
     "output_type": "display_data"
    },
    {
     "data": {
      "text/html": [
       "<img style='width: 300px; margin: 0px; float: left; border: 1px solid black;' src='Topic/nahtasha(V)_holdyoucloser2003(P).png' /><img style='width: 300px; margin: 0px; float: left; border: 1px solid black;' src='SentimentAverage/nahtasha(V)_holdyoucloser2003(P).png' /><img style='width: 300px; margin: 0px; float: left; border: 1px solid black;' src='SentimentAverage/nahtasha(V)_holdyoucloser2003(P).png' />"
      ],
      "text/plain": [
       "<IPython.core.display.HTML object>"
      ]
     },
     "metadata": {},
     "output_type": "display_data"
    },
    {
     "data": {
      "text/html": [
       "<img style='width: 300px; margin: 0px; float: left; border: 1px solid black;' src='Topic/guurly_guurl_1993(V)_cuteguyinoc2002(P).png' /><img style='width: 300px; margin: 0px; float: left; border: 1px solid black;' src='SentimentAverage/guurly_guurl_1993(V)_cuteguyinoc2002(P).png' /><img style='width: 300px; margin: 0px; float: left; border: 1px solid black;' src='SentimentAverage/guurly_guurl_1993(V)_cuteguyinoc2002(P).png' />"
      ],
      "text/plain": [
       "<IPython.core.display.HTML object>"
      ]
     },
     "metadata": {},
     "output_type": "display_data"
    },
    {
     "data": {
      "text/html": [
       "<img style='width: 300px; margin: 0px; float: left; border: 1px solid black;' src='Topic/torn_angel_2005(V)_asian_kreationz(P).png' /><img style='width: 300px; margin: 0px; float: left; border: 1px solid black;' src='SentimentAverage/torn_angel_2005(V)_asian_kreationz(P).png' /><img style='width: 300px; margin: 0px; float: left; border: 1px solid black;' src='SentimentAverage/torn_angel_2005(V)_asian_kreationz(P).png' />"
      ],
      "text/plain": [
       "<IPython.core.display.HTML object>"
      ]
     },
     "metadata": {},
     "output_type": "display_data"
    },
    {
     "data": {
      "text/html": [
       "<img style='width: 300px; margin: 0px; float: left; border: 1px solid black;' src='Topic/baby_cakes_1990(V)_jleno9(P).png' /><img style='width: 300px; margin: 0px; float: left; border: 1px solid black;' src='SentimentAverage/baby_cakes_1990(V)_jleno9(P).png' /><img style='width: 300px; margin: 0px; float: left; border: 1px solid black;' src='SentimentAverage/baby_cakes_1990(V)_jleno9(P).png' />"
      ],
      "text/plain": [
       "<IPython.core.display.HTML object>"
      ]
     },
     "metadata": {},
     "output_type": "display_data"
    },
    {
     "data": {
      "text/html": [
       "<img style='width: 300px; margin: 0px; float: left; border: 1px solid black;' src='Topic/14 year old girl(V)_steelmanoo(P).png' /><img style='width: 300px; margin: 0px; float: left; border: 1px solid black;' src='SentimentAverage/14 year old girl(V)_steelmanoo(P).png' /><img style='width: 300px; margin: 0px; float: left; border: 1px solid black;' src='SentimentAverage/14 year old girl(V)_steelmanoo(P).png' />"
      ],
      "text/plain": [
       "<IPython.core.display.HTML object>"
      ]
     },
     "metadata": {},
     "output_type": "display_data"
    },
    {
     "data": {
      "text/html": [
       "<img style='width: 300px; margin: 0px; float: left; border: 1px solid black;' src='Topic/david 91752(V)_pavlov1234(P).png' /><img style='width: 300px; margin: 0px; float: left; border: 1px solid black;' src='SentimentAverage/david 91752(V)_pavlov1234(P).png' /><img style='width: 300px; margin: 0px; float: left; border: 1px solid black;' src='SentimentAverage/david 91752(V)_pavlov1234(P).png' />"
      ],
      "text/plain": [
       "<IPython.core.display.HTML object>"
      ]
     },
     "metadata": {},
     "output_type": "display_data"
    },
    {
     "data": {
      "text/html": [
       "<img style='width: 300px; margin: 0px; float: left; border: 1px solid black;' src='Topic/kawaii_kitten_93(V)_sweet_jason002(P).png' /><img style='width: 300px; margin: 0px; float: left; border: 1px solid black;' src='SentimentAverage/kawaii_kitten_93(V)_sweet_jason002(P).png' /><img style='width: 300px; margin: 0px; float: left; border: 1px solid black;' src='SentimentAverage/kawaii_kitten_93(V)_sweet_jason002(P).png' />"
      ],
      "text/plain": [
       "<IPython.core.display.HTML object>"
      ]
     },
     "metadata": {},
     "output_type": "display_data"
    },
    {
     "data": {
      "text/html": [
       "<img style='width: 300px; margin: 0px; float: left; border: 1px solid black;' src='Topic/lori_luvs_puppies(V)_texassailor04(P).png' /><img style='width: 300px; margin: 0px; float: left; border: 1px solid black;' src='SentimentAverage/lori_luvs_puppies(V)_texassailor04(P).png' /><img style='width: 300px; margin: 0px; float: left; border: 1px solid black;' src='SentimentAverage/lori_luvs_puppies(V)_texassailor04(P).png' />"
      ],
      "text/plain": [
       "<IPython.core.display.HTML object>"
      ]
     },
     "metadata": {},
     "output_type": "display_data"
    },
    {
     "data": {
      "text/html": [
       "<img style='width: 300px; margin: 0px; float: left; border: 1px solid black;' src='Topic/diamondinthe.rough(V)_sphinx_56_02(P).png' /><img style='width: 300px; margin: 0px; float: left; border: 1px solid black;' src='SentimentAverage/diamondinthe.rough(V)_sphinx_56_02(P).png' /><img style='width: 300px; margin: 0px; float: left; border: 1px solid black;' src='SentimentAverage/diamondinthe.rough(V)_sphinx_56_02(P).png' />"
      ],
      "text/plain": [
       "<IPython.core.display.HTML object>"
      ]
     },
     "metadata": {},
     "output_type": "display_data"
    },
    {
     "data": {
      "text/html": [
       "<img style='width: 300px; margin: 0px; float: left; border: 1px solid black;' src='Topic/rubyslippers013(V)_red387peter(P).png' /><img style='width: 300px; margin: 0px; float: left; border: 1px solid black;' src='SentimentAverage/rubyslippers013(V)_red387peter(P).png' /><img style='width: 300px; margin: 0px; float: left; border: 1px solid black;' src='SentimentAverage/rubyslippers013(V)_red387peter(P).png' />"
      ],
      "text/plain": [
       "<IPython.core.display.HTML object>"
      ]
     },
     "metadata": {},
     "output_type": "display_data"
    },
    {
     "data": {
      "text/html": [
       "<img style='width: 300px; margin: 0px; float: left; border: 1px solid black;' src='Topic/jess_n_cali(V)_pitbulldavid2001(P).png' /><img style='width: 300px; margin: 0px; float: left; border: 1px solid black;' src='SentimentAverage/jess_n_cali(V)_pitbulldavid2001(P).png' /><img style='width: 300px; margin: 0px; float: left; border: 1px solid black;' src='SentimentAverage/jess_n_cali(V)_pitbulldavid2001(P).png' />"
      ],
      "text/plain": [
       "<IPython.core.display.HTML object>"
      ]
     },
     "metadata": {},
     "output_type": "display_data"
    },
    {
     "data": {
      "text/html": [
       "<img style='width: 300px; margin: 0px; float: left; border: 1px solid black;' src='Topic/14 yr old girl(V)_vipper_131(P).png' /><img style='width: 300px; margin: 0px; float: left; border: 1px solid black;' src='SentimentAverage/14 yr old girl(V)_vipper_131(P).png' /><img style='width: 300px; margin: 0px; float: left; border: 1px solid black;' src='SentimentAverage/14 yr old girl(V)_vipper_131(P).png' />"
      ],
      "text/plain": [
       "<IPython.core.display.HTML object>"
      ]
     },
     "metadata": {},
     "output_type": "display_data"
    }
   ],
   "source": [
    "for filename in f:\n",
    "    files = []\n",
    "    path = \"Topic/\" + filename\n",
    "    filen = filename[:-4]\n",
    "    sentimentStopStemAverage = \"SentimentAverage/\" + filename\n",
    "    sentimentStopStemNormalized = \"SentimentAverage/\" + filename\n",
    "    #sentimentPre = \"Plots/Sentiment/\" + filen + \"_PREDATOR.png\"\n",
    "    #sentimentVict = \"Plots/Sentiment/\" + filen + \"_VICTIM.png\"\n",
    "    files.append(path)\n",
    "    files.append(sentimentStopStemAverage)\n",
    "    files.append(sentimentStopStemNormalized)\n",
    "    #files.append(sentimentPre)\n",
    "    #files.append(sentimentVict)\n",
    "    #print files\n",
    "    imagesList=''.join( [\"<img style='width: 300px; margin: 0px; float: left; border: 1px solid black;' src='%s' />\" % str(s) \n",
    "                     for s in files])\n",
    "    display(HTML(imagesList))\n",
    "    \n",
    "    \n",
    "    "
   ]
  },
  {
   "cell_type": "code",
   "execution_count": null,
   "metadata": {
    "collapsed": true
   },
   "outputs": [],
   "source": []
  },
  {
   "cell_type": "code",
   "execution_count": null,
   "metadata": {
    "collapsed": true
   },
   "outputs": [],
   "source": []
  }
 ],
 "metadata": {
  "kernelspec": {
   "display_name": "Python 2",
   "language": "python",
   "name": "python2"
  },
  "language_info": {
   "codemirror_mode": {
    "name": "ipython",
    "version": 2
   },
   "file_extension": ".py",
   "mimetype": "text/x-python",
   "name": "python",
   "nbconvert_exporter": "python",
   "pygments_lexer": "ipython2",
   "version": "2.7.12"
  }
 },
 "nbformat": 4,
 "nbformat_minor": 2
}
